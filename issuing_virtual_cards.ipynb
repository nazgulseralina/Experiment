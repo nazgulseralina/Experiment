{
  "nbformat": 4,
  "nbformat_minor": 0,
  "metadata": {
    "colab": {
      "provenance": [],
      "authorship_tag": "ABX9TyNYx7B7j8zopEDSXuihG35W",
      "include_colab_link": true
    },
    "kernelspec": {
      "name": "python3",
      "display_name": "Python 3"
    },
    "language_info": {
      "name": "python"
    }
  },
  "cells": [
    {
      "cell_type": "markdown",
      "metadata": {
        "id": "view-in-github",
        "colab_type": "text"
      },
      "source": [
        "<a href=\"https://colab.research.google.com/github/nazgulseralina/Experiment/blob/main/issuing_virtual_cards.ipynb\" target=\"_parent\"><img src=\"https://colab.research.google.com/assets/colab-badge.svg\" alt=\"Open In Colab\"/></a>"
      ]
    },
    {
      "cell_type": "code",
      "execution_count": null,
      "metadata": {
        "colab": {
          "base_uri": "https://localhost:8080/"
        },
        "id": "iJhgFE_t2dkV",
        "outputId": "59a12ef3-6eb5-4522-ea82-42549aeca748"
      },
      "outputs": [
        {
          "output_type": "stream",
          "name": "stdout",
          "text": [
            "Number of issued cards: 1000\n"
          ]
        }
      ],
      "source": [
        "\n",
        "class VirtualCard:\n",
        "    def __init__(self, card_number, expiration_date, security_code):\n",
        "        self.card_number = card_number\n",
        "        self.expiration_date = expiration_date\n",
        "        self.security_code = security_code\n",
        "\n",
        "class CardIssuer:\n",
        "    def __init__(self):\n",
        "        self.issued_cards = []\n",
        "\n",
        "    def issue_card(self, card_number, expiration_date, security_code):\n",
        "        virtual_card = VirtualCard(card_number, expiration_date, security_code)\n",
        "        self.issued_cards.append(virtual_card)\n",
        "        return virtual_card\n",
        "\n",
        "card_issuer = CardIssuer()\n",
        "\n",
        "for i in range(1000):\n",
        "    card_number = f\"{i:016}\"  # generates a 16-digit string representation of i\n",
        "    expiration_date = \"12/25\"\n",
        "    security_code = f\"{i:03}\"  # generates a 3-digit string representation of i\n",
        "    card_issuer.issue_card(card_number, expiration_date, security_code)\n",
        "\n",
        "print(\"Number of issued cards:\", len(card_issuer.issued_cards))\n"
      ]
    },
    {
      "cell_type": "markdown",
      "source": [
        "Step 1 - Generating virtual card. This code generates 1000 virtual cards by using a for loop to call the issue_card method of the CardIssuer class 1000 times. The card_number and security_code are generated using string formatting.\n"
      ],
      "metadata": {
        "id": "1FBCgrys3OEn"
      }
    },
    {
      "cell_type": "code",
      "source": [
        "class VirtualCard:\n",
        "    def __init__(self, card_number, expiration_date, security_code):\n",
        "        self.card_number = card_number\n",
        "        self.expiration_date = expiration_date\n",
        "        self.security_code = security_code\n",
        "\n",
        "class CardIssuer:\n",
        "    def __init__(self):\n",
        "        self.issued_cards = []\n",
        "\n",
        "    def issue_card(self, card_number, expiration_date, security_code):\n",
        "        virtual_card = VirtualCard(card_number, expiration_date, security_code)\n",
        "        self.issued_cards.append(virtual_card)\n",
        "        return virtual_card\n",
        "\n",
        "    def get_card(self, card_number):\n",
        "        for card in self.issued_cards:\n",
        "            if card.card_number == card_number:\n",
        "                return card\n",
        "        return None\n",
        "\n",
        "card_issuer = CardIssuer()\n",
        "\n",
        "# Issue some virtual cards\n",
        "card1 = card_issuer.issue_card(\"1234567890123456\", \"12/25\", \"123\")\n",
        "card2 = card_issuer.issue_card(\"2345678901234567\", \"01/26\", \"456\")\n",
        "\n",
        "# Get a virtual card based on its card number\n",
        "retrieved_card = card_issuer.get_card(\"2345678901234567\")\n",
        "\n",
        "if retrieved_card is not None:\n",
        "    print(\"Retrieved Card:\")\n",
        "    print(\"Card Number:\", retrieved_card.card_number)\n",
        "    print(\"Expiration Date:\", retrieved_card.expiration_date)\n",
        "    print(\"Security Code:\", retrieved_card.security_code)\n",
        "else:\n",
        "    print(\"Card not found.\")\n"
      ],
      "metadata": {
        "colab": {
          "base_uri": "https://localhost:8080/"
        },
        "id": "gDMNofEb5I_B",
        "outputId": "9ce63a7b-89cf-4034-8679-00d42d038d63"
      },
      "execution_count": null,
      "outputs": [
        {
          "output_type": "stream",
          "name": "stdout",
          "text": [
            "Retrieved Card:\n",
            "Card Number: 2345678901234567\n",
            "Expiration Date: 01/26\n",
            "Security Code: 456\n"
          ]
        }
      ]
    },
    {
      "cell_type": "markdown",
      "source": [
        "Step 2 - Request card. This code defines a CardIssuer class with a get_card method that retrieves a virtual card based on its card number. The method uses a loop to iterate over the list of issued cards, and returns the first card that has the same card number as the input. If no card is found, the method returns None.\n"
      ],
      "metadata": {
        "id": "4IkKrDQ65X_5"
      }
    },
    {
      "cell_type": "code",
      "source": [],
      "metadata": {
        "id": "P3dGcXBP3XVm"
      },
      "execution_count": null,
      "outputs": []
    },
    {
      "cell_type": "code",
      "source": [
        "from flask import Flask, request\n",
        "import smtplib\n",
        "from email.mime.text import MIMEText\n",
        "\n",
        "class VirtualCard:\n",
        "    def __init__(self, card_number, expiration_date, security_code):\n",
        "        self.card_number = card_number\n",
        "        self.expiration_date = expiration_date\n",
        "        self.security_code = security_code\n",
        "\n",
        "class CardIssuer:\n",
        "    def __init__(self):\n",
        "        self.issued_cards = []\n",
        "\n",
        "    def issue_card(self, card_number, expiration_date, security_code):\n",
        "        virtual_card = VirtualCard(card_number, expiration_date, security_code)\n",
        "        self.issued_cards.append(virtual_card)\n",
        "        return virtual_card\n",
        "\n",
        "    def send_card_data(self, card, recipient_email, sender_email, sender_password):\n",
        "        card_data = \"Card Number: {}\\nExpiration Date: {}\\nSecurity Code: {}\".format(\n",
        "            card.card_number, card.expiration_date, card.security_code\n",
        "        )\n",
        "        msg = MIMEText(card_data)\n",
        "        msg['Subject'] = 'Virtual Card Data'\n",
        "        msg['From'] = sender_email\n",
        "        msg['To'] = recipient_email\n",
        "        \n",
        "        server = smtplib.SMTP('smtp.gmail.com', 587)\n",
        "        server.ehlo()\n",
        "        server.starttls()\n",
        "        server.login(sender_email, sender_password)\n",
        "        server.sendmail(sender_email, recipient_email, msg.as_string())\n",
        "        server.close()\n",
        "        print(\"Virtual card data sent successfully.\")\n",
        "\n",
        "app = Flask(__name__)\n",
        "card_issuer = CardIssuer()\n",
        "\n",
        "@app.route(\"/send_card_data\", methods=[\"POST\"])\n",
        "def send_card_data():\n",
        "    card_number = request.json.get(\"card_number\")\n",
        "    expiration_date = request.json.get(\"expiration_date\")\n",
        "    security_code = request.json.get(\"security_code\")\n",
        "    recipient_email = request.json.get(\"recipient_email\")\n",
        "    sender_email = request.json.get(\"sender_email\")\n",
        "    sender_password = request.json.get(\"sender_password\")\n",
        "\n",
        "    card = card_issuer.issue_card(card_number, expiration_date, security_code)\n",
        "    card_issuer.send_card_data(card, recipient_email, sender_email, sender_password)\n",
        "\n",
        "    return {\"message\": \"Virtual card data sent successfully.\"}, 200\n",
        "\n",
        "if __name__ == \"__main__\":\n",
        "    app.run()\n"
      ],
      "metadata": {
        "colab": {
          "base_uri": "https://localhost:8080/"
        },
        "id": "0Bars2B974QO",
        "outputId": "6a883bbe-9a40-4ae8-9a6e-2f8848da7787"
      },
      "execution_count": null,
      "outputs": [
        {
          "output_type": "stream",
          "name": "stdout",
          "text": [
            " * Serving Flask app \"__main__\" (lazy loading)\n",
            " * Environment: production\n",
            "\u001b[31m   WARNING: This is a development server. Do not use it in a production deployment.\u001b[0m\n",
            "\u001b[2m   Use a production WSGI server instead.\u001b[0m\n",
            " * Debug mode: off\n"
          ]
        },
        {
          "output_type": "stream",
          "name": "stderr",
          "text": [
            "INFO:werkzeug: * Running on http://127.0.0.1:5000/ (Press CTRL+C to quit)\n"
          ]
        }
      ]
    },
    {
      "cell_type": "markdown",
      "source": [
        "This code creates a REST API with Flask that listens for POST requests to the /send_card_data endpoint. When a request is received, the virtual card data is extracted from the request body, and a virtual card is issued using the CardIssuer class. Finally, the virtual card data is sent to the recipient using the send_card_data method. Note that you'll need to replace the sender email and sender password in the code with valid values. "
      ],
      "metadata": {
        "id": "NXJqOEEjDGlX"
      }
    },
    {
      "cell_type": "code",
      "source": [
        "import random\n",
        "\n",
        "class VirtualCard:\n",
        "    def __init__(self, card_number, expiration_date, security_code):\n",
        "        self.card_number = card_number\n",
        "        self.expiration_date = expiration_date\n",
        "        self.security_code = security_code\n",
        "\n",
        "class CardIssuer:\n",
        "    def __init__(self):\n",
        "        self.issued_cards = []\n",
        "\n",
        "    def issue_card(self, card_number, expiration_date, security_code):\n",
        "        virtual_card = VirtualCard(card_number, expiration_date, security_code)\n",
        "        self.issued_cards.append(virtual_card)\n",
        "        return virtual_card\n",
        "\n",
        "def calculate_accuracy(card_issuer, num_cards):\n",
        "    num_correct = 0\n",
        "    for i in range(num_cards):\n",
        "        card_number = str(random.randint(1000000000000000, 9999999999999999))\n",
        "        expiration_date = \"12/30\"\n",
        "        security_code = str(random.randint(100, 999))\n",
        "        card = card_issuer.issue_card(card_number, expiration_date, security_code)\n",
        "        if card.card_number == card_number and card.expiration_date == expiration_date and card.security_code == security_code:\n",
        "            num_correct += 1\n",
        "    accuracy = num_correct / num_cards\n",
        "    return accuracy\n",
        "\n",
        "card_issuer = CardIssuer()\n",
        "accuracy = calculate_accuracy(card_issuer, 1000)\n",
        "print(\"Accuracy: {:.2f}%\".format(accuracy * 100))\n"
      ],
      "metadata": {
        "colab": {
          "base_uri": "https://localhost:8080/"
        },
        "id": "lAaLLcWgE9QR",
        "outputId": "b7132cde-8767-42a9-9856-47a6248820d8"
      },
      "execution_count": null,
      "outputs": [
        {
          "output_type": "stream",
          "name": "stdout",
          "text": [
            "Accuracy: 100.00%\n"
          ]
        }
      ]
    },
    {
      "cell_type": "markdown",
      "source": [
        "The calculation the accuracy of issuing 1000 virtual cards using the CardIssuer class.\n",
        "This code defines a VirtualCard class and a CardIssuer class that can be used to issue virtual cards. The calculate_accuracy function takes a CardIssuer object and the number of cards to issue as arguments, and returns the accuracy of the card issuance as a percentage. The accuracy is calculated by issuing num_cards virtual cards with random card numbers, expiration dates, and security codes, and comparing the issued virtual cards to the original values. The accuracy is then printed to the console.\n",
        "\n"
      ],
      "metadata": {
        "id": "PG9-50LwFHRF"
      }
    },
    {
      "cell_type": "code",
      "source": [
        "import random\n",
        "\n",
        "class VirtualCard:\n",
        "    def __init__(self, card_number, expiration_date, security_code):\n",
        "        self.card_number = card_number\n",
        "        self.expiration_date = expiration_date\n",
        "        self.security_code = security_code\n",
        "\n",
        "class CardIssuer:\n",
        "    def __init__(self):\n",
        "        self.issued_cards = []\n",
        "\n",
        "    def issue_card(self, card_number, expiration_date, security_code):\n",
        "        virtual_card = VirtualCard(card_number, expiration_date, security_code)\n",
        "        self.issued_cards.append(virtual_card)\n",
        "        return virtual_card\n",
        "\n",
        "def calculate_reliability(card_issuer, num_cards):\n",
        "    num_correct = 0\n",
        "    for i in range(num_cards):\n",
        "        card_number = str(random.randint(1000000000000000, 9999999999999999))\n",
        "        expiration_date = \"12/30\"\n",
        "        security_code = str(random.randint(100, 999))\n",
        "        card = card_issuer.issue_card(card_number, expiration_date, security_code)\n",
        "        if card.card_number == card_number and card.expiration_date == expiration_date and card.security_code == security_code:\n",
        "            num_correct += 1\n",
        "    reliability = num_correct / num_cards\n",
        "    return reliability\n",
        "\n",
        "card_issuer = CardIssuer()\n",
        "reliability = calculate_reliability(card_issuer, 1000)\n",
        "print(\"Reliability: {:.2f}%\".format(reliability * 100))\n"
      ],
      "metadata": {
        "colab": {
          "base_uri": "https://localhost:8080/"
        },
        "id": "-mJeN038H6kA",
        "outputId": "07dea595-4344-4049-a404-1f31f9015658"
      },
      "execution_count": null,
      "outputs": [
        {
          "output_type": "stream",
          "name": "stdout",
          "text": [
            "Reliability: 100.00%\n"
          ]
        }
      ]
    },
    {
      "cell_type": "markdown",
      "source": [
        "calculating the reliability of issuing 1000 virtual cards using the CardIssuer class. This code defines a VirtualCard class and a CardIssuer class that can be used to issue virtual cards. The calculate_reliability function takes a CardIssuer object and the number of cards to issue as arguments, and returns the reliability of the card issuance as a percentage. The reliability is calculated by issuing num_cards virtual cards with random card numbers, expiration dates, and security codes, and comparing the issued virtual cards to the original values. The reliability is then printed to the console.\n"
      ],
      "metadata": {
        "id": "etQrEqdDLOUI"
      }
    },
    {
      "cell_type": "code",
      "source": [
        "import time\n",
        "\n",
        "class VirtualCard:\n",
        "    def __init__(self, card_number, expiration_date, security_code):\n",
        "        self.card_number = card_number\n",
        "        self.expiration_date = expiration_date\n",
        "        self.security_code = security_code\n",
        "\n",
        "class CardIssuer:\n",
        "    def __init__(self):\n",
        "        self.issued_cards = []\n",
        "\n",
        "    def issue_card(self, card_number, expiration_date, security_code):\n",
        "        virtual_card = VirtualCard(card_number, expiration_date, security_code)\n",
        "        self.issued_cards.append(virtual_card)\n",
        "        return virtual_card\n",
        "\n",
        "def calculate_productivity(card_issuer, num_cards):\n",
        "    start_time = time.time()\n",
        "    for i in range(num_cards):\n",
        "        card_number = str(i)\n",
        "        expiration_date = \"12/30\"\n",
        "        security_code = str(i % 1000)\n",
        "        card_issuer.issue_card(card_number, expiration_date, security_code)\n",
        "    end_time = time.time()\n",
        "    duration = end_time - start_time\n",
        "    productivity = num_cards / duration\n",
        "    return productivity\n",
        "\n",
        "card_issuer = CardIssuer()\n",
        "productivity = calculate_productivity(card_issuer, 1000)\n",
        "print(\"Productivity: {:.2f} cards/second\".format(productivity))\n"
      ],
      "metadata": {
        "colab": {
          "base_uri": "https://localhost:8080/"
        },
        "id": "3Cah_A-1LmYu",
        "outputId": "64f1d198-e50b-4b5a-db09-ac45671d8141"
      },
      "execution_count": null,
      "outputs": [
        {
          "output_type": "stream",
          "name": "stdout",
          "text": [
            "Productivity: 549136.42 cards/second\n"
          ]
        }
      ]
    },
    {
      "cell_type": "markdown",
      "source": [
        " calculate the productivity of issuing 1000 virtual cards using the CardIssuer class. This code defines a VirtualCard class and a CardIssuer class that can be used to issue virtual cards. The calculate_productivity function takes a CardIssuer object and the number of cards to issue as arguments, and returns the productivity of the card issuance as the number of virtual cards issued per second. The productivity is calculated by measuring the time it takes to issue num_cards virtual cards, and dividing the number of cards by the duration. The productivity is then printed to the console."
      ],
      "metadata": {
        "id": "Nu_7rTu-L5Qo"
      }
    },
    {
      "cell_type": "code",
      "source": [
        "import json\n",
        "\n",
        "class VirtualCard:\n",
        "    def __init__(self, card_number, expiration_date, security_code):\n",
        "        self.card_number = card_number\n",
        "        self.expiration_date = expiration_date\n",
        "        self.security_code = security_code\n",
        "\n",
        "class CardIssuer:\n",
        "    def __init__(self):\n",
        "        self.issued_cards = []\n",
        "\n",
        "    def issue_card(self, card_number, expiration_date, security_code):\n",
        "        virtual_card = VirtualCard(card_number, expiration_date, security_code)\n",
        "        self.issued_cards.append(virtual_card)\n",
        "        return virtual_card\n",
        "\n",
        "def calculate_storeability(card_issuer, num_cards):\n",
        "    for i in range(num_cards):\n",
        "        card_number = str(i)\n",
        "        expiration_date = \"12/30\"\n",
        "        security_code = str(i % 1000)\n",
        "        card_issuer.issue_card(card_number, expiration_date, security_code)\n",
        "\n",
        "    card_data = [{\"card_number\": c.card_number, \"expiration_date\": c.expiration_date, \"security_code\": c.security_code} for c in card_issuer.issued_cards]\n",
        "    serialized_data = json.dumps(card_data)\n",
        "    storeability = len(serialized_data) / (1024 * 1024)\n",
        "    return storeability\n",
        "\n",
        "card_issuer = CardIssuer()\n",
        "storeability = calculate_storeability(card_issuer, 1000)\n",
        "print(\"Storeability: {:.2f} MB\".format(storeability))\n"
      ],
      "metadata": {
        "colab": {
          "base_uri": "https://localhost:8080/"
        },
        "id": "obyU4EonM3Uz",
        "outputId": "d83bfda8-4624-4ac5-c0bc-376bd4c543f1"
      },
      "execution_count": null,
      "outputs": [
        {
          "output_type": "stream",
          "name": "stdout",
          "text": [
            "Storeability: 0.07 MB\n"
          ]
        }
      ]
    },
    {
      "cell_type": "markdown",
      "source": [
        "calculate the storeability of issuing 1000 virtual cards using the CardIssuer class.\n",
        "This code defines a VirtualCard class and a CardIssuer class that can be used to issue virtual cards. The calculate_storeability function takes a CardIssuer object and the number of cards to issue as arguments, and returns the storeability of the card issuance as the amount of memory needed to store the serialized card data. The storeability is calculated by issuing num_cards virtual cards, serializing the card data into a JSON string, and dividing the length of the serialized data by 1024 * 1024 to get the size in MB. The storeability is then printed to the console.\n",
        "\n"
      ],
      "metadata": {
        "id": "m3fAD5UIM9co"
      }
    },
    {
      "cell_type": "code",
      "source": [
        "import time\n",
        "\n",
        "class VirtualCard:\n",
        "    def __init__(self, card_number, expiration_date, security_code):\n",
        "        self.card_number = card_number\n",
        "        self.expiration_date = expiration_date\n",
        "        self.security_code = security_code\n",
        "\n",
        "class CardIssuer:\n",
        "    def __init__(self):\n",
        "        self.issued_cards = []\n",
        "\n",
        "    def issue_card(self, card_number, expiration_date, security_code):\n",
        "        virtual_card = VirtualCard(card_number, expiration_date, security_code)\n",
        "        self.issued_cards.append(virtual_card)\n",
        "        return virtual_card\n",
        "\n",
        "def calculate_availability(card_issuer, num_cards):\n",
        "    start_time = time.time()\n",
        "    for i in range(num_cards):\n",
        "        card_number = str(i)\n",
        "        expiration_date = \"12/30\"\n",
        "        security_code = str(i % 1000)\n",
        "        card_issuer.issue_card(card_number, expiration_date, security_code)\n",
        "    end_time = time.time()\n",
        "    elapsed_time = end_time - start_time\n",
        "    availability = num_cards / elapsed_time\n",
        "    return availability\n",
        "\n",
        "card_issuer = CardIssuer()\n",
        "availability = calculate_availability(card_issuer, 1000)\n",
        "print(\"Availability: {:.2f} cards/second\".format(availability))\n"
      ],
      "metadata": {
        "colab": {
          "base_uri": "https://localhost:8080/"
        },
        "id": "pO97PSy1NOz3",
        "outputId": "0f7ad437-04dd-4990-b2a2-a89d4ff9ff7a"
      },
      "execution_count": null,
      "outputs": [
        {
          "output_type": "stream",
          "name": "stdout",
          "text": [
            "Availability: 488163.87 cards/second\n"
          ]
        }
      ]
    },
    {
      "cell_type": "markdown",
      "source": [
        "calculate the availability of issuing 1000 virtual cards using the CardIssuer class.\n",
        "This code defines a VirtualCard class and a CardIssuer class that can be used to issue virtual cards. The calculate_availability function takes a CardIssuer object and the number of cards to issue as arguments, and returns the availability of the card issuance as the number of cards issued per second. The availability is calculated by issuing num_cards virtual cards and dividing the number of cards issued by the elapsed time in seconds. The availability is then printed to the console.\n"
      ],
      "metadata": {
        "id": "EMP_dXC8FB6s"
      }
    }
  ]
}